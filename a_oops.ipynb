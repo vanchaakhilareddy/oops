{
 "cells": [
  {
   "cell_type": "code",
   "execution_count": 2,
   "id": "bddd8d6c",
   "metadata": {},
   "outputs": [
    {
     "name": "stdout",
     "output_type": "stream",
     "text": [
      "x:10\n",
      "i:2\n",
      "100\n"
     ]
    }
   ],
   "source": [
    "class power:\n",
    "    def pow(self, x, i):\n",
    "        if x==0 or x==1 or i==1:\n",
    "            return x \n",
    "        if x==-1:\n",
    "            if i%2 ==0:\n",
    "                return 1\n",
    "            else:\n",
    "                return -1\n",
    "        if i==0:\n",
    "            return 1\n",
    "        if i<0:\n",
    "            return 1/self.pow(x,-i)\n",
    "        val = self.pow(x,i//2)\n",
    "        if i%2 ==0:\n",
    "            return val*val\n",
    "        return val*val*x\n",
    "    \n",
    "print(power().pow(int(input('x:')), int(input('i:'))))"
   ]
  },
  {
   "cell_type": "code",
   "execution_count": null,
   "id": "c215c4b4",
   "metadata": {},
   "outputs": [],
   "source": []
  }
 ],
 "metadata": {
  "kernelspec": {
   "display_name": "Python 3",
   "language": "python",
   "name": "python3"
  },
  "language_info": {
   "codemirror_mode": {
    "name": "ipython",
    "version": 3
   },
   "file_extension": ".py",
   "mimetype": "text/x-python",
   "name": "python",
   "nbconvert_exporter": "python",
   "pygments_lexer": "ipython3",
   "version": "3.8.8"
  }
 },
 "nbformat": 4,
 "nbformat_minor": 5
}
